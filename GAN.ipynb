{
  "nbformat": 4,
  "nbformat_minor": 0,
  "metadata": {
    "colab": {
      "provenance": [],
      "authorship_tag": "ABX9TyOSVv4qDeCxaYwv7lLRE5PU",
      "include_colab_link": true
    },
    "kernelspec": {
      "name": "python3",
      "display_name": "Python 3"
    },
    "language_info": {
      "name": "python"
    }
  },
  "cells": [
    {
      "cell_type": "markdown",
      "metadata": {
        "id": "view-in-github",
        "colab_type": "text"
      },
      "source": [
        "<a href=\"https://colab.research.google.com/github/Vishak05/SDC-GenAI/blob/main/GAN.ipynb\" target=\"_parent\"><img src=\"https://colab.research.google.com/assets/colab-badge.svg\" alt=\"Open In Colab\"/></a>"
      ]
    },
    {
      "cell_type": "code",
      "execution_count": null,
      "metadata": {
        "id": "cZBfxCn5TI8k"
      },
      "outputs": [],
      "source": [
        "# GAN with MNIST using Keras\n",
        "import numpy as np\n",
        "from tensorflow.keras.datasets import mnist\n",
        "from tensorflow.keras.models import Sequential\n",
        "from tensorflow.keras.layers import Dense, LeakyReLU, BatchNormalization, Reshape, Flatten\n",
        "from tensorflow.keras.optimizers import Adam\n",
        "import matplotlib.pyplot as plt\n",
        "\n",
        "# Load MNIST\n",
        "(X_train, _), (_, _) = mnist.load_data()\n",
        "X_train = X_train / 127.5 - 1.0\n",
        "X_train = X_train.reshape(-1, 784)\n",
        "\n",
        "# Generator\n",
        "def build_generator():\n",
        "    model = Sequential()\n",
        "    model.add(Dense(256, input_dim=100))\n",
        "    model.add(LeakyReLU(0.2))\n",
        "    model.add(BatchNormalization())\n",
        "    model.add(Dense(512))\n",
        "    model.add(LeakyReLU(0.2))\n",
        "    model.add(BatchNormalization())\n",
        "    model.add(Dense(1024))\n",
        "    model.add(LeakyReLU(0.2))\n",
        "    model.add(Dense(784, activation='tanh'))\n",
        "    return model\n",
        "\n",
        "# Discriminator\n",
        "def build_discriminator():\n",
        "    model = Sequential()\n",
        "    model.add(Dense(512, input_dim=784))\n",
        "    model.add(LeakyReLU(0.2))\n",
        "    model.add(Dense(256))\n",
        "    model.add(LeakyReLU(0.2))\n",
        "    model.add(Dense(1, activation='sigmoid'))\n",
        "    return model\n",
        "\n",
        "# Models\n",
        "optimizer = Adam(0.0002, 0.5)\n",
        "discriminator = build_discriminator()\n",
        "discriminator.compile(loss='binary_crossentropy', optimizer=optimizer, metrics=['accuracy'])\n",
        "\n",
        "generator = build_generator()\n",
        "z = np.random.normal(0, 1, (1, 100))\n",
        "img = generator.predict(z)\n",
        "\n",
        "discriminator.trainable = False\n",
        "gan = Sequential([generator, discriminator])\n",
        "gan.compile(loss='binary_crossentropy', optimizer=optimizer)\n",
        "\n",
        "# Training\n",
        "epochs = 1000\n",
        "batch_size = 128\n",
        "\n",
        "for epoch in range(epochs):\n",
        "    idx = np.random.randint(0, X_train.shape[0], batch_size)\n",
        "    real = X_train[idx]\n",
        "    fake = generator.predict(np.random.normal(0, 1, (batch_size, 100)))\n",
        "\n",
        "    X_combined = np.concatenate([real, fake])\n",
        "    y_combined = np.concatenate([np.ones((batch_size, 1)), np.zeros((batch_size, 1))])\n",
        "\n",
        "    d_loss = discriminator.train_on_batch(X_combined, y_combined)\n",
        "\n",
        "    z = np.random.normal(0, 1, (batch_size, 100))\n",
        "    y_gen = np.ones((batch_size, 1))\n",
        "    g_loss = gan.train_on_batch(z, y_gen)\n",
        "\n",
        "    if epoch % 200 == 0:\n",
        "        print(f\"Epoch {epoch} - D Loss: {d_loss[0]}, G Loss: {g_loss}\")\n"
      ]
    }
  ]
}