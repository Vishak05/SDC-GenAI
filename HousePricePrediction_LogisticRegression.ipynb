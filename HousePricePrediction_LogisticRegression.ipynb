{
  "nbformat": 4,
  "nbformat_minor": 0,
  "metadata": {
    "colab": {
      "provenance": [],
      "authorship_tag": "ABX9TyOPVfXs2KCU9oYCUu6qAuNa",
      "include_colab_link": true
    },
    "kernelspec": {
      "name": "python3",
      "display_name": "Python 3"
    },
    "language_info": {
      "name": "python"
    }
  },
  "cells": [
    {
      "cell_type": "markdown",
      "metadata": {
        "id": "view-in-github",
        "colab_type": "text"
      },
      "source": [
        "<a href=\"https://colab.research.google.com/github/Vishak05/SDC-GenAI/blob/main/HousePricePrediction_LogisticRegression.ipynb\" target=\"_parent\"><img src=\"https://colab.research.google.com/assets/colab-badge.svg\" alt=\"Open In Colab\"/></a>"
      ]
    },
    {
      "cell_type": "code",
      "execution_count": null,
      "metadata": {
        "id": "Nm3VN1SnX5F6"
      },
      "outputs": [],
      "source": [
        "import pandas as pd\n",
        "import numpy as np\n",
        "from sklearn.model_selection import train_test_split\n",
        "from sklearn.preprocessing import StandardScaler\n",
        "from sklearn.linear_model import LogisticRegression\n",
        "from sklearn.metrics import accuracy_score, confusion_matrix, classification_report\n",
        "from sklearn.datasets import fetch_california_housing\n",
        "\n",
        "# Load California Housing dataset\n",
        "data = fetch_california_housing(as_frame=True)\n",
        "df = data.frame\n",
        "\n",
        "# Define threshold to classify houses as 'expensive' (1) or 'not expensive' (0)\n",
        "threshold = df[\"MedHouseVal\"].median()\n",
        "df[\"Price_Class\"] = (df[\"MedHouseVal\"] > threshold).astype(int)\n",
        "\n",
        "# Feature selection\n",
        "features = [\"MedInc\", \"HouseAge\", \"AveRooms\", \"AveBedrms\"]\n",
        "X = df[features]\n",
        "y = df[\"Price_Class\"]\n",
        "\n",
        "# Train-test split\n",
        "X_train, X_test, y_train, y_test = train_test_split(X, y, test_size=0.2, random_state=42)\n",
        "\n",
        "# Feature scaling\n",
        "scaler = StandardScaler()\n",
        "X_train_scaled = scaler.fit_transform(X_train)\n",
        "X_test_scaled = scaler.transform(X_test)\n",
        "\n",
        "# Train Logistic Regression\n",
        "model = LogisticRegression()\n",
        "model.fit(X_train_scaled, y_train)\n",
        "\n",
        "# Predict\n",
        "y_pred = model.predict(X_test_scaled)\n",
        "\n",
        "# Evaluate\n",
        "accuracy = accuracy_score(y_test, y_pred)\n",
        "conf_matrix = confusion_matrix(y_test, y_pred)\n",
        "report = classification_report(y_test, y_pred)\n",
        "\n",
        "print(f\"Accuracy: {accuracy * 100:.2f}%\")\n",
        "print(\"Confusion Matrix:\")\n",
        "print(conf_matrix)\n",
        "print(\"Classification Report:\")\n",
        "print(report)\n",
        "\n",
        "# Predict on new house data\n",
        "new_house = np.array([[3.0, 20, 6, 1]])\n",
        "new_house_scaled = scaler.transform(new_house)\n",
        "prediction = model.predict(new_house_scaled)[0]\n",
        "print(\"Prediction for new house:\", \"Expensive\" if prediction == 1 else \"Not Expensive\")\n"
      ]
    }
  ]
}