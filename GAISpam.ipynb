import pandas as pd
from sklearn.model_selection import train_test_split
from sklearn.feature_extraction.text import CountVectorizer
from sklearn.naive_bayes import MultinomialNB
from sklearn.metrics import accuracy_score

# Sample data for spam detection
data = {'text': ['Hey, I have a special offer for you!', 'Are you free tomorrow?', 'You won a lottery!', 'Hello, how are you?', 'Claim your prize now!'],
        'label': ['spam', 'ham', 'spam', 'ham', 'spam']}
df = pd.DataFrame(data)

# Split data into features (X) and labels (y)
X = df['text']
y = df['label']

# Convert text data into feature vectors using CountVectorizer
vectorizer = CountVectorizer()
X_vectorized = vectorizer.fit_transform(X)

# Split data into training and testing sets
X_train, X_test, y_train, y_test = train_test_split(X_vectorized, y, test_size=0.2, random_state=42)

# Train a Naive Bayes model for spam detection
model = MultinomialNB()
model.fit(X_train, y_train)

# Predict on the test set
y_pred = model.predict(X_test)

# Evaluate the model
accuracy = accuracy_score(y_test, y_pred)
print(f"Accuracy: {accuracy * 100:.2f}%")

# Example of using the model to predict if a message is spam
new_message = "Congratulations! You've won a gift card."
new_message_vectorized = vectorizer.transform([new_message])
prediction = model.predict(new_message_vectorized)
print(f"Prediction: {prediction[0]}")
