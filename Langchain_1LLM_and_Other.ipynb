{
  "nbformat": 4,
  "nbformat_minor": 0,
  "metadata": {
    "colab": {
      "provenance": [],
      "authorship_tag": "ABX9TyPDTqOaPkD3MLYGkk4f1mS1",
      "include_colab_link": true
    },
    "kernelspec": {
      "name": "python3",
      "display_name": "Python 3"
    },
    "language_info": {
      "name": "python"
    }
  },
  "cells": [
    {
      "cell_type": "markdown",
      "metadata": {
        "id": "view-in-github",
        "colab_type": "text"
      },
      "source": [
        "<a href=\"https://colab.research.google.com/github/Vishak05/SDC-GenAI/blob/main/Langchain_1LLM_and_Other.ipynb\" target=\"_parent\"><img src=\"https://colab.research.google.com/assets/colab-badge.svg\" alt=\"Open In Colab\"/></a>"
      ]
    },
    {
      "cell_type": "code",
      "execution_count": null,
      "metadata": {
        "id": "uyb0gm_6UeQ0"
      },
      "outputs": [],
      "source": [
        "# LangChain with LLM + Tool (Calculator)\n",
        "!pip install langchain openai --quiet\n",
        "\n",
        "from langchain.agents import load_tools, initialize_agent\n",
        "from langchain.agents.agent_types import AgentType\n",
        "from langchain.llms import OpenAI\n",
        "import os\n",
        "\n",
        "os.environ[\"OPENAI_API_KEY\"] = \"sk-...\"  # Replace with your key\n",
        "\n",
        "llm = OpenAI(temperature=0)\n",
        "\n",
        "# Load a calculator tool\n",
        "tools = load_tools([\"llm-math\"], llm=llm)\n",
        "\n",
        "# Create agent with tool\n",
        "agent = initialize_agent(\n",
        "    tools, llm, agent=AgentType.ZERO_SHOT_REACT_DESCRIPTION, verbose=True\n",
        ")\n",
        "\n",
        "# Example\n",
        "agent.run(\"What is 45.6 times 12.3?\")\n"
      ]
    }
  ]
}