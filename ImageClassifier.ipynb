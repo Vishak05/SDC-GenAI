{
  "nbformat": 4,
  "nbformat_minor": 0,
  "metadata": {
    "colab": {
      "provenance": [],
      "authorship_tag": "ABX9TyN3aciPe/scH4wVH2olNlVI",
      "include_colab_link": true
    },
    "kernelspec": {
      "name": "python3",
      "display_name": "Python 3"
    },
    "language_info": {
      "name": "python"
    }
  },
  "cells": [
    {
      "cell_type": "markdown",
      "metadata": {
        "id": "view-in-github",
        "colab_type": "text"
      },
      "source": [
        "<a href=\"https://colab.research.google.com/github/Vishak05/SDC-GenAI/blob/main/ImageClassifier.ipynb\" target=\"_parent\"><img src=\"https://colab.research.google.com/assets/colab-badge.svg\" alt=\"Open In Colab\"/></a>"
      ]
    },
    {
      "cell_type": "code",
      "execution_count": null,
      "metadata": {
        "id": "zp7cCfreUus6"
      },
      "outputs": [],
      "source": [
        "# Image Classifier using TensorFlow and MobileNetV2\n",
        "import tensorflow as tf\n",
        "from tensorflow.keras.preprocessing.image import ImageDataGenerator\n",
        "from tensorflow.keras.applications import MobileNetV2\n",
        "from tensorflow.keras import layers, models\n",
        "\n",
        "# Dataset\n",
        "URL = 'https://storage.googleapis.com/mledu-datasets/cats_and_dogs_filtered.zip'\n",
        "!wget -q $URL -O cats_and_dogs_filtered.zip\n",
        "!unzip -q cats_and_dogs_filtered.zip\n",
        "\n",
        "train_path = \"cats_and_dogs_filtered/train\"\n",
        "val_path = \"cats_and_dogs_filtered/validation\"\n",
        "\n",
        "datagen = ImageDataGenerator(rescale=1./255)\n",
        "\n",
        "train = datagen.flow_from_directory(train_path, target_size=(160, 160), batch_size=32, class_mode='binary')\n",
        "val = datagen.flow_from_directory(val_path, target_size=(160, 160), batch_size=32, class_mode='binary')\n",
        "\n",
        "# Model\n",
        "base_model = MobileNetV2(input_shape=(160,160,3), include_top=False, weights='imagenet')\n",
        "base_model.trainable = False\n",
        "\n",
        "model = models.Sequential([\n",
        "    base_model,\n",
        "    layers.GlobalAveragePooling2D(),\n",
        "    layers.Dense(1, activation='sigmoid')\n",
        "])\n",
        "\n",
        "model.compile(optimizer='adam', loss='binary_crossentropy', metrics=['accuracy'])\n",
        "model.fit(train, epochs=3, validation_data=val)\n"
      ]
    }
  ]
}