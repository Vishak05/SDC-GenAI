import openai

# Set up your OpenAI API key
openai.api_key = 'your-api-key'

def chat_with_bot(prompt):
    response = openai.Completion.create(
        engine="text-davinci-003",  # Or "gpt-3.5-turbo" for ChatGPT models
        prompt=prompt,
        max_tokens=150,
        temperature=0.7
    )
    return response.choices[0].text.strip()

# Example conversation
while True:
    user_input = input("You: ")
    if user_input.lower() == 'exit':
        print("Goodbye!")
        break
    bot_response = chat_with_bot(user_input)
    print(f"Bot: {bot_response}")
