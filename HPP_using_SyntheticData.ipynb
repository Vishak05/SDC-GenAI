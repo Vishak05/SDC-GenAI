{
  "nbformat": 4,
  "nbformat_minor": 0,
  "metadata": {
    "colab": {
      "provenance": [],
      "authorship_tag": "ABX9TyMzEbTgto9/+vKmkXV35sf/",
      "include_colab_link": true
    },
    "kernelspec": {
      "name": "python3",
      "display_name": "Python 3"
    },
    "language_info": {
      "name": "python"
    }
  },
  "cells": [
    {
      "cell_type": "markdown",
      "metadata": {
        "id": "view-in-github",
        "colab_type": "text"
      },
      "source": [
        "<a href=\"https://colab.research.google.com/github/Vishak05/SDC-GenAI/blob/main/HPP_using_SyntheticData.ipynb\" target=\"_parent\"><img src=\"https://colab.research.google.com/assets/colab-badge.svg\" alt=\"Open In Colab\"/></a>"
      ]
    },
    {
      "cell_type": "code",
      "execution_count": null,
      "metadata": {
        "id": "zOKYnuSHVcFw"
      },
      "outputs": [],
      "source": [
        "import numpy as np\n",
        "import pandas as pd\n",
        "from sklearn.datasets import make_regression\n",
        "from sklearn.model_selection import train_test_split\n",
        "from sklearn.preprocessing import StandardScaler\n",
        "from sklearn.linear_model import LogisticRegression\n",
        "from sklearn.metrics import accuracy_score, confusion_matrix\n",
        "\n",
        "# Step 1: Generate synthetic data for housing prices\n",
        "X, y = make_regression(n_samples=1000, n_features=5, noise=0.1)\n",
        "\n",
        "# Convert to a pandas DataFrame\n",
        "df = pd.DataFrame(X, columns=[f'Feature_{i+1}' for i in range(X.shape[1])])\n",
        "df['Price'] = y\n",
        "\n",
        "# Step 2: Convert housing prices into a binary classification problem\n",
        "# Let's set a threshold to classify houses as 'high price' (1) or 'low price' (0)\n",
        "threshold = df['Price'].median()\n",
        "df['Price_Class'] = (df['Price'] > threshold).astype(int)\n",
        "\n",
        "# Step 3: Split the data into training and testing sets\n",
        "X = df.drop(['Price', 'Price_Class'], axis=1)\n",
        "y = df['Price_Class']\n",
        "\n",
        "X_train, X_test, y_train, y_test = train_test_split(X, y, test_size=0.2, random_state=42)\n",
        "\n",
        "# Step 4: Standardize the features\n",
        "scaler = StandardScaler()\n",
        "X_train = scaler.fit_transform(X_train)\n",
        "X_test = scaler.transform(X_test)\n",
        "\n",
        "# Step 5: Train a Logistic Regression model\n",
        "model = LogisticRegression()\n",
        "model.fit(X_train, y_train)\n",
        "\n",
        "# Step 6: Predict on the test set\n",
        "y_pred = model.predict(X_test)\n",
        "\n",
        "# Step 7: Evaluate the model\n",
        "accuracy = accuracy_score(y_test, y_pred)\n",
        "conf_matrix = confusion_matrix(y_test, y_pred)\n",
        "\n",
        "# Output the results\n",
        "print(f'Accuracy: {accuracy*100:.2f}%')\n",
        "print('Confusion Matrix:')\n",
        "print(conf_matrix)\n"
      ]
    }
  ]
}