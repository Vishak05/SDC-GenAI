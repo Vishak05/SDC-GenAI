import numpy as np
import pandas as pd
from keras.models import Sequential
from keras.layers import LSTM, Dense
from sklearn.preprocessing import MinMaxScaler

# Generate sample data (e.g., time series data)
data = np.sin(np.linspace(0, 100, 200))

# Reshape data for LSTM
data = data.reshape((data.shape[0], 1))

# Normalize the data
scaler = MinMaxScaler(feature_range=(0, 1))
data_scaled = scaler.fit_transform(data)

# Prepare the dataset for LSTM
def create_dataset(data, time_step=1):
    X, y = [], []
    for i in range(len(data) - time_step - 1):
        X.append(data[i:(i + time_step), 0])
        y.append(data[i + time_step, 0])
    return np.array(X), np.array(y)

time_step = 10
X, y = create_dataset(data_scaled, time_step)
X = X.reshape(X.shape[0], X.shape[1], 1)  # Reshape for LSTM

# Split into train and test sets
train_size = int(len(X) * 0.8)
X_train, X_test = X[:train_size], X[train_size:]
y_train, y_test = y[:train_size], y[train_size:]

# Build the LSTM model
model = Sequential()
model.add(LSTM(units=50, return_sequences=False, input_shape=(time_step, 1)))
model.add(Dense(1))  # Output layer

# Compile and train the model
model.compile(optimizer='adam', loss='mean_squared_error')
model.fit(X_train, y_train, epochs=10, batch_size=32, verbose=1)

# Predict using the model
predicted = model.predict(X_test)

# Inverse scaling to get original values
predicted_values = scaler.inverse_transform(predicted)
y_test_original = scaler.inverse_transform(y_test.reshape(-1, 1))

# Compare predicted vs actual
print("Predicted:", predicted_values[:5])
print("Actual:", y_test_original[:5])
