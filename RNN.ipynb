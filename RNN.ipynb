{
  "nbformat": 4,
  "nbformat_minor": 0,
  "metadata": {
    "colab": {
      "provenance": [],
      "authorship_tag": "ABX9TyPCk+wK2ABalzmdp9fUugJ3",
      "include_colab_link": true
    },
    "kernelspec": {
      "name": "python3",
      "display_name": "Python 3"
    },
    "language_info": {
      "name": "python"
    }
  },
  "cells": [
    {
      "cell_type": "markdown",
      "metadata": {
        "id": "view-in-github",
        "colab_type": "text"
      },
      "source": [
        "<a href=\"https://colab.research.google.com/github/Vishak05/SDC-GenAI/blob/main/RNN.ipynb\" target=\"_parent\"><img src=\"https://colab.research.google.com/assets/colab-badge.svg\" alt=\"Open In Colab\"/></a>"
      ]
    },
    {
      "cell_type": "code",
      "execution_count": null,
      "metadata": {
        "id": "FBCuHHsvSyvE"
      },
      "outputs": [],
      "source": [
        "# RNN - Predict next character from name sequence\n",
        "import numpy as np\n",
        "from tensorflow.keras.models import Sequential\n",
        "from tensorflow.keras.layers import SimpleRNN, Dense\n",
        "from tensorflow.keras.utils import to_categorical\n",
        "\n",
        "# Dataset\n",
        "text = \"alicebobcharliedavid\"\n",
        "chars = sorted(set(text))\n",
        "char_to_int = {c: i for i, c in enumerate(chars)}\n",
        "int_to_char = dict(enumerate(chars))\n",
        "\n",
        "# Create sequences\n",
        "seq_length = 4\n",
        "dataX, dataY = [], []\n",
        "\n",
        "for i in range(len(text) - seq_length):\n",
        "    seq_in = text[i:i+seq_length]\n",
        "    seq_out = text[i+seq_length]\n",
        "    dataX.append([char_to_int[ch] for ch in seq_in])\n",
        "    dataY.append(char_to_int[seq_out])\n",
        "\n",
        "X = to_categorical(dataX)\n",
        "y = to_categorical(dataY)\n",
        "\n",
        "# Model\n",
        "model = Sequential()\n",
        "model.add(SimpleRNN(32, input_shape=(seq_length, len(chars))))\n",
        "model.add(Dense(len(chars), activation='softmax'))\n",
        "model.compile(loss='categorical_crossentropy', optimizer='adam', metrics=['accuracy'])\n",
        "\n",
        "model.fit(X, y, epochs=200, verbose=0)\n",
        "\n",
        "# Predict\n",
        "index = 0\n",
        "pattern = dataX[index]\n",
        "print(\"Seed:\", ''.join([int_to_char[value] for value in pattern]))\n",
        "prediction = model.predict(np.reshape(to_categorical(pattern), (1, seq_length, len(chars))))\n",
        "print(\"Next char prediction:\", int_to_char[np.argmax(prediction)])\n"
      ]
    }
  ]
}