#movie review

import tensorflow as tf
from tensorflow.keras import layers, models
from tensorflow.keras.datasets import imdb
from tensorflow.keras.preprocessing.sequence import pad_sequences

# Load IMDb dataset
max_features = 10000  # Number of words to consider as features
max_len = 200  # Max length of each review
(train_data, train_labels), (test_data, test_labels) = imdb.load_data(num_words=max_features)

# Pad the sequences to ensure uniform input size
train_data = pad_sequences(train_data, maxlen=max_len)
test_data = pad_sequences(test_data, maxlen=max_len)

# Build the RNN model
model = models.Sequential([
    layers.Embedding(max_features, 128, input_length=max_len),
    layers.LSTM(128, dropout=0.2, recurrent_dropout=0.2),  # LSTM layer for sequence processing
    layers.Dense(1, activation='sigmoid')  # Binary classification (positive or negative sentiment)
])

# Compile the model
model.compile(optimizer='adam',
              loss='binary_crossentropy',
              metrics=['accuracy'])

# Train the model
model.fit(train_data, train_labels, epochs=5, batch_size=64, validation_data=(test_data, test_labels))

# Evaluate the model on the test set
test_loss, test_acc = model.evaluate(test_data, test_labels)
print(f"Test accuracy: {test_acc}")
