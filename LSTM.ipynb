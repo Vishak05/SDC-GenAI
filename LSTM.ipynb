{
  "nbformat": 4,
  "nbformat_minor": 0,
  "metadata": {
    "colab": {
      "provenance": [],
      "authorship_tag": "ABX9TyNjtjk1SNQgoXAxIF1hFeVd",
      "include_colab_link": true
    },
    "kernelspec": {
      "name": "python3",
      "display_name": "Python 3"
    },
    "language_info": {
      "name": "python"
    }
  },
  "cells": [
    {
      "cell_type": "markdown",
      "metadata": {
        "id": "view-in-github",
        "colab_type": "text"
      },
      "source": [
        "<a href=\"https://colab.research.google.com/github/Vishak05/SDC-GenAI/blob/main/LSTM.ipynb\" target=\"_parent\"><img src=\"https://colab.research.google.com/assets/colab-badge.svg\" alt=\"Open In Colab\"/></a>"
      ]
    },
    {
      "cell_type": "code",
      "execution_count": null,
      "metadata": {
        "id": "xxOju-n9S9vj"
      },
      "outputs": [],
      "source": [
        "# LSTM Character Level Text Prediction\n",
        "import numpy as np\n",
        "from tensorflow.keras.models import Sequential\n",
        "from tensorflow.keras.layers import LSTM, Dense\n",
        "from tensorflow.keras.utils import to_categorical\n",
        "\n",
        "# Data\n",
        "text = \"deep learning is fun\"\n",
        "chars = sorted(set(text))\n",
        "char_to_int = {c: i for i, c in enumerate(chars)}\n",
        "int_to_char = dict(enumerate(chars))\n",
        "\n",
        "seq_length = 5\n",
        "X, y = [], []\n",
        "\n",
        "for i in range(len(text) - seq_length):\n",
        "    seq = text[i:i+seq_length]\n",
        "    target = text[i+seq_length]\n",
        "    X.append([char_to_int[c] for c in seq])\n",
        "    y.append(char_to_int[target])\n",
        "\n",
        "X = to_categorical(X)\n",
        "y = to_categorical(y)\n",
        "\n",
        "# Model\n",
        "model = Sequential()\n",
        "model.add(LSTM(32, input_shape=(seq_length, len(chars))))\n",
        "model.add(Dense(len(chars), activation='softmax'))\n",
        "\n",
        "model.compile(loss='categorical_crossentropy', optimizer='adam', metrics=['accuracy'])\n",
        "model.fit(X, y, epochs=300, verbose=0)\n",
        "\n",
        "# Test Prediction\n",
        "test_seq = \"learn\"\n",
        "encoded = np.array([[char_to_int[c] for c in test_seq]])\n",
        "encoded = to_categorical(encoded)\n",
        "pred = model.predict(encoded)\n",
        "print(\"Predicted next char after 'learn':\", int_to_char[np.argmax(pred)])\n"
      ]
    }
  ]
}