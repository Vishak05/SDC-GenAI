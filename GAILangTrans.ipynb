from googletrans import Translator

# Initialize the translator
translator = Translator()

def translate_text(text, target_language):
    translated = translator.translate(text, dest=target_language)
    return translated.text

# Example usage
text_to_translate = "Hello, how are you?"
target_language = "ta"  # Spanish (use 'fr' for French, 'de' for German, etc.)
translated_text = translate_text(text_to_translate, target_language)
print(f"Translated Text: {translated_text}")
