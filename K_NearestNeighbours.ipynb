{
  "nbformat": 4,
  "nbformat_minor": 0,
  "metadata": {
    "colab": {
      "provenance": [],
      "authorship_tag": "ABX9TyPHMksyaaOIj8xZ+rYVSHLc",
      "include_colab_link": true
    },
    "kernelspec": {
      "name": "python3",
      "display_name": "Python 3"
    },
    "language_info": {
      "name": "python"
    }
  },
  "cells": [
    {
      "cell_type": "markdown",
      "metadata": {
        "id": "view-in-github",
        "colab_type": "text"
      },
      "source": [
        "<a href=\"https://colab.research.google.com/github/Vishak05/SDC-GenAI/blob/main/K_NearestNeighbours.ipynb\" target=\"_parent\"><img src=\"https://colab.research.google.com/assets/colab-badge.svg\" alt=\"Open In Colab\"/></a>"
      ]
    },
    {
      "cell_type": "code",
      "execution_count": null,
      "metadata": {
        "id": "02Ra4xGnZHLW"
      },
      "outputs": [],
      "source": [
        "import pandas as pd\n",
        "import numpy as np\n",
        "import gradio as gr\n",
        "from sklearn.datasets import load_iris\n",
        "from sklearn.model_selection import train_test_split\n",
        "from sklearn.neighbors import KNeighborsClassifier\n",
        "from sklearn.preprocessing import StandardScaler\n",
        "\n",
        "# 📊 Load Iris dataset\n",
        "iris = load_iris()\n",
        "X = iris.data\n",
        "y = iris.target\n",
        "target_names = iris.target_names\n",
        "\n",
        "# ⚙️ Preprocessing\n",
        "scaler = StandardScaler()\n",
        "X_scaled = scaler.fit_transform(X)\n",
        "\n",
        "# 🧠 Train KNN model\n",
        "X_train, X_test, y_train, y_test = train_test_split(X_scaled, y, test_size=0.2, random_state=42)\n",
        "knn = KNeighborsClassifier(n_neighbors=5)\n",
        "knn.fit(X_train, y_train)\n",
        "\n",
        "# 🔍 Prediction function\n",
        "def predict_species(sepal_length, sepal_width, petal_length, petal_width):\n",
        "    user_input = scaler.transform([[sepal_length, sepal_width, petal_length, petal_width]])\n",
        "    prediction = knn.predict(user_input)[0]\n",
        "    return f\"🌸 Predicted Species: {target_names[prediction].capitalize()}\"\n",
        "\n",
        "# 🎨 Gradio UI\n",
        "inputs = [\n",
        "    gr.Number(label=\"Sepal Length (cm)\", value=5.1),\n",
        "    gr.Number(label=\"Sepal Width (cm)\", value=3.5),\n",
        "    gr.Number(label=\"Petal Length (cm)\", value=1.4),\n",
        "    gr.Number(label=\"Petal Width (cm)\", value=0.2),\n",
        "]\n",
        "\n",
        "interface = gr.Interface(\n",
        "    fn=predict_species,\n",
        "    inputs=inputs,\n",
        "    outputs=gr.Textbox(label=\"Prediction\"),\n",
        "    title=\"🌼 Iris Flower Classifier\",\n",
        "    description=\"Enter flower measurements to predict the Iris species using KNN.\",\n",
        "    theme=\"soft\"\n",
        ")\n",
        "\n",
        "interface.launch()\n"
      ]
    }
  ]
}