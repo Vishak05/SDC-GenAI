# Importing required libraries
import pandas as pd
import numpy as np
import scipy.cluster.hierarchy as sch
from sklearn.preprocessing import StandardScaler
import matplotlib.pyplot as plt

# URL for a working dataset (Dataset from the 'OpenML' platform)
url = 'https://www.openml.org/data/get_csv/31/dataset_31_car.arff'

# Load the dataset
df = pd.read_csv(url)

# Display the first few rows to check the structure of the dataset
print(df.head())

# We will use only the numerical features for clustering
# Assuming there are numerical columns; please modify based on your data
data = df.select_dtypes(include=[np.number])

# Standardizing the data
scaler = StandardScaler()
scaled_data = scaler.fit_transform(data)

# Perform hierarchical clustering using linkage
linked = sch.linkage(scaled_data, method='ward')

# Create a dendrogram to visualize the clusters
plt.figure(figsize=(10, 7))
sch.dendrogram(linked)
plt.title('Hierarchical Clustering Dendrogram (Example Dataset)')
plt.xlabel('Index')
plt.ylabel('Distance')
plt.show()

# To cut the dendrogram and form clusters, we can set a threshold distance
from scipy.cluster.hierarchy import fcluster

# Form clusters by specifying the threshold distance
threshold = 15  # Modify based on your specific needs
clusters = fcluster(linked, threshold, criterion='distance')

# Add the cluster labels to the original dataframe
df['Cluster'] = clusters

# Show the clustered dataset
print(df.head())
