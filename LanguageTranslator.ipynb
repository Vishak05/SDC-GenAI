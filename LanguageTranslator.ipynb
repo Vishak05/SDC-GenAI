{
  "nbformat": 4,
  "nbformat_minor": 0,
  "metadata": {
    "colab": {
      "provenance": [],
      "authorship_tag": "ABX9TyPN+cu0CbCnuuTaiAvQl8Ls",
      "include_colab_link": true
    },
    "kernelspec": {
      "name": "python3",
      "display_name": "Python 3"
    },
    "language_info": {
      "name": "python"
    }
  },
  "cells": [
    {
      "cell_type": "markdown",
      "metadata": {
        "id": "view-in-github",
        "colab_type": "text"
      },
      "source": [
        "<a href=\"https://colab.research.google.com/github/Vishak05/SDC-GenAI/blob/main/LanguageTranslator.ipynb\" target=\"_parent\"><img src=\"https://colab.research.google.com/assets/colab-badge.svg\" alt=\"Open In Colab\"/></a>"
      ]
    },
    {
      "cell_type": "code",
      "execution_count": null,
      "metadata": {
        "colab": {
          "base_uri": "https://localhost:8080/"
        },
        "id": "mL1DsShI_RNl",
        "outputId": "86de7b89-652d-4022-f971-959f0db52ffe"
      },
      "outputs": [
        {
          "output_type": "stream",
          "name": "stdout",
          "text": [
            "Enter source language code (e.g., en for English, es for Spanish): en\n",
            "Enter target language code (e.g., fr for French, de for German): ar\n",
            "Enter text to translate: god\n",
            "Translated Text: الله الله\n"
          ]
        }
      ],
      "source": [
        "import logging\n",
        "from transformers import MarianMTModel, MarianTokenizer\n",
        "\n",
        "logging.getLogger(\"transformers\").setLevel(logging.ERROR)\n",
        "\n",
        "\n",
        "def translate_text(text, src_lang=\"en\", tgt_lang=\"fr\"):\n",
        "    \"\"\"Translates text from source language to target language using MarianMT.\"\"\"\n",
        "    model_name = f\"Helsinki-NLP/opus-mt-{src_lang}-{tgt_lang}\"\n",
        "    tokenizer = MarianTokenizer.from_pretrained(model_name)\n",
        "    model = MarianMTModel.from_pretrained(model_name)\n",
        "\n",
        "    # Tokenize and translate\n",
        "    inputs = tokenizer(text, return_tensors=\"pt\", padding=True, truncation=True)\n",
        "    translated_tokens = model.generate(**inputs)\n",
        "    translated_text = tokenizer.decode(translated_tokens[0], skip_special_tokens=True)\n",
        "\n",
        "    return translated_text\n",
        "\n",
        "# Get user input\n",
        "src_language = input(\"Enter source language code (e.g., en for English, es for Spanish): \")\n",
        "tgt_language = input(\"Enter target language code (e.g., fr for French, de for German): \")\n",
        "text_to_translate = input(\"Enter text to translate: \")\n",
        "\n",
        "# Translate and output\n",
        "translated = translate_text(text_to_translate, src_lang=src_language, tgt_lang=tgt_language)\n",
        "print(\"Translated Text:\", translated)\n"
      ]
    },
    {
      "cell_type": "code",
      "source": [
        "from googletrans import Translator\n",
        "\n",
        "def translate_text(text, src_lang, tgt_lang):\n",
        "    \"\"\"Translates text using Google Translate API.\"\"\"\n",
        "    translator = Translator()\n",
        "    translated = translator.translate(text, src=src_lang, dest=tgt_lang)\n",
        "    return translated.text\n",
        "\n",
        "# Get user input\n",
        "src_language = input(\"Enter source language code (e.g., en for English, es for Spanish): \")\n",
        "tgt_language = input(\"Enter target language code (e.g., fr for French, de for German): \")\n",
        "text_to_translate = input(\"Enter text to translate: \")\n",
        "\n",
        "# Translate and output\n",
        "translated = translate_text(text_to_translate, src_lang=src_language, tgt_lang=tgt_language)\n",
        "print(\"Translated Text:\", translated)"
      ],
      "metadata": {
        "colab": {
          "base_uri": "https://localhost:8080/"
        },
        "id": "tuTNrUlxAN6k",
        "outputId": "f7dbb009-1d93-4524-f748-671d04163e85"
      },
      "execution_count": null,
      "outputs": [
        {
          "output_type": "stream",
          "name": "stdout",
          "text": [
            "Enter source language code (e.g., en for English, es for Spanish): ar\n",
            "Enter target language code (e.g., fr for French, de for German): en\n",
            "Enter text to translate: الله هو أكبر\n",
            "Translated Text: God is great\n"
          ]
        }
      ]
    },
    {
      "cell_type": "code",
      "source": [
        "!pip install sacremoses"
      ],
      "metadata": {
        "colab": {
          "base_uri": "https://localhost:8080/"
        },
        "id": "GYSIW92aD0ah",
        "outputId": "cc078974-d526-4d0c-a69e-d0f0e9ad6ab8"
      },
      "execution_count": null,
      "outputs": [
        {
          "output_type": "stream",
          "name": "stdout",
          "text": [
            "Collecting sacremoses\n",
            "  Downloading sacremoses-0.1.1-py3-none-any.whl.metadata (8.3 kB)\n",
            "Requirement already satisfied: regex in /usr/local/lib/python3.11/dist-packages (from sacremoses) (2024.11.6)\n",
            "Requirement already satisfied: click in /usr/local/lib/python3.11/dist-packages (from sacremoses) (8.1.8)\n",
            "Requirement already satisfied: joblib in /usr/local/lib/python3.11/dist-packages (from sacremoses) (1.4.2)\n",
            "Requirement already satisfied: tqdm in /usr/local/lib/python3.11/dist-packages (from sacremoses) (4.67.1)\n",
            "Downloading sacremoses-0.1.1-py3-none-any.whl (897 kB)\n",
            "\u001b[2K   \u001b[90m━━━━━━━━━━━━━━━━━━━━━━━━━━━━━━━━━━━━━━━━\u001b[0m \u001b[32m897.5/897.5 kB\u001b[0m \u001b[31m9.1 MB/s\u001b[0m eta \u001b[36m0:00:00\u001b[0m\n",
            "\u001b[?25hInstalling collected packages: sacremoses\n",
            "Successfully installed sacremoses-0.1.1\n"
          ]
        }
      ]
    }
  ]
}