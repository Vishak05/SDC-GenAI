{
  "nbformat": 4,
  "nbformat_minor": 0,
  "metadata": {
    "colab": {
      "provenance": [],
      "authorship_tag": "ABX9TyPNxCfERGirv3TRncZ6/ua+",
      "include_colab_link": true
    },
    "kernelspec": {
      "name": "python3",
      "display_name": "Python 3"
    },
    "language_info": {
      "name": "python"
    }
  },
  "cells": [
    {
      "cell_type": "markdown",
      "metadata": {
        "id": "view-in-github",
        "colab_type": "text"
      },
      "source": [
        "<a href=\"https://colab.research.google.com/github/Vishak05/SDC-GenAI/blob/main/Summarizer.ipynb\" target=\"_parent\"><img src=\"https://colab.research.google.com/assets/colab-badge.svg\" alt=\"Open In Colab\"/></a>"
      ]
    },
    {
      "cell_type": "code",
      "execution_count": null,
      "metadata": {
        "id": "0OBh7zAATV9x"
      },
      "outputs": [],
      "source": [
        "# Text Summarization using transformers\n",
        "!pip install transformers --quiet\n",
        "\n",
        "from transformers import pipeline\n",
        "\n",
        "summarizer = pipeline(\"summarization\")\n",
        "\n",
        "text = \"\"\"\n",
        "Artificial Intelligence (AI) is the simulation of human intelligence in machines that are programmed\n",
        "to think and learn like humans. These machines can perform tasks such as understanding natural language,\n",
        "recognizing patterns in data, and making decisions. AI is increasingly being used in industries ranging\n",
        "from healthcare and finance to transportation and education.\n",
        "\"\"\"\n",
        "\n",
        "summary = summarizer(text, max_length=50, min_length=25, do_sample=False)\n",
        "print(\"Summary:\\n\", summary[0]['summary_text'])\n"
      ]
    }
  ]
}