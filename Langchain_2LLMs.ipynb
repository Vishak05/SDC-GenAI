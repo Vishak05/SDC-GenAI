{
  "nbformat": 4,
  "nbformat_minor": 0,
  "metadata": {
    "colab": {
      "provenance": [],
      "authorship_tag": "ABX9TyOgACb9q68x4t30yd0+jkot",
      "include_colab_link": true
    },
    "kernelspec": {
      "name": "python3",
      "display_name": "Python 3"
    },
    "language_info": {
      "name": "python"
    }
  },
  "cells": [
    {
      "cell_type": "markdown",
      "metadata": {
        "id": "view-in-github",
        "colab_type": "text"
      },
      "source": [
        "<a href=\"https://colab.research.google.com/github/Vishak05/SDC-GenAI/blob/main/Langchain_2LLMs.ipynb\" target=\"_parent\"><img src=\"https://colab.research.google.com/assets/colab-badge.svg\" alt=\"Open In Colab\"/></a>"
      ]
    },
    {
      "cell_type": "code",
      "execution_count": null,
      "metadata": {
        "id": "44T-mVV5UOsR"
      },
      "outputs": [],
      "source": [
        "# LangChain with OpenAI + HuggingFace LLMs\n",
        "!pip install langchain openai transformers --quiet\n",
        "\n",
        "from langchain.llms import OpenAI\n",
        "from langchain.llms import HuggingFaceHub\n",
        "from langchain.prompts import PromptTemplate\n",
        "from langchain.chains import LLMChain\n",
        "\n",
        "# Set your OpenAI key here or via environment variable\n",
        "import os\n",
        "os.environ[\"OPENAI_API_KEY\"] = \"sk-...\"  # Replace with your key\n",
        "\n",
        "# OpenAI model\n",
        "llm1 = OpenAI(temperature=0.7, model_name=\"gpt-3.5-turbo-instruct\")\n",
        "\n",
        "# HuggingFace model\n",
        "llm2 = HuggingFaceHub(repo_id=\"google/flan-t5-small\", model_kwargs={\"temperature\":0.7})\n",
        "\n",
        "prompt = PromptTemplate.from_template(\"Explain the concept of {topic}\")\n",
        "\n",
        "chain1 = LLMChain(prompt=prompt, llm=llm1)\n",
        "chain2 = LLMChain(prompt=prompt, llm=llm2)\n",
        "\n",
        "print(\"OpenAI GPT Response:\\n\", chain1.run(\"quantum computing\"))\n",
        "print(\"\\nHuggingFace Response:\\n\", chain2.run(\"quantum computing\"))\n"
      ]
    }
  ]
}