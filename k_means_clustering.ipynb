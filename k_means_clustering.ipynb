#clustering countries by economy and health

import pandas as pd
import matplotlib.pyplot as plt
from sklearn.cluster import KMeans

# Step 1: Load dataset
url = "https://raw.githubusercontent.com/resbaz/r-novice-gapminder-files/master/data/gapminder-FiveYearData.csv"
df = pd.read_csv(url)

# Step 2: Filter latest year data
latest_df = df[df['year'] == 2007][['country', 'gdpPercap', 'lifeExp']]

# Step 3: Prepare features for clustering
X = latest_df[['gdpPercap', 'lifeExp']]

# Step 4: Apply KMeans
kmeans = KMeans(n_clusters=4, random_state=42)
latest_df['cluster'] = kmeans.fit_predict(X)

# Step 5: Plot results
plt.figure(figsize=(10, 6))
scatter = plt.scatter(latest_df['gdpPercap'], latest_df['lifeExp'],
                      c=latest_df['cluster'], cmap='Set2', s=100, alpha=0.7)
plt.scatter(kmeans.cluster_centers_[:, 0], kmeans.cluster_centers_[:, 1],
            c='black', s=200, marker='X', label='Centroids')
plt.xlabel('GDP per Capita')
plt.ylabel('Life Expectancy')
plt.title('Country Clustering by Economy & Life Expectancy (2007)')
plt.grid(True)
plt.legend()
plt.show()
